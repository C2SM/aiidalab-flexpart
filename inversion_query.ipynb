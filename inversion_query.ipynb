{
 "cells": [
  {
   "cell_type": "code",
   "execution_count": null,
   "metadata": {},
   "outputs": [],
   "source": [
    "from aiida import load_profile, orm \n",
    "load_profile();\n",
    "\n",
    "from aiida.orm import QueryBuilder\n",
    "import ipywidgets as widgets\n",
    "from IPython.display import display,clear_output\n",
    "\n",
    "from settings import *\n",
    "from utils import make_query\n",
    "\n",
    "from IPython.core.display import display"
   ]
  },
  {
   "cell_type": "markdown",
   "metadata": {},
   "source": [
    "# Inversion results"
   ]
  },
  {
   "cell_type": "markdown",
   "metadata": {},
   "source": [
    "Remote directories of successful inversions. "
   ]
  },
  {
   "cell_type": "code",
   "execution_count": null,
   "metadata": {},
   "outputs": [],
   "source": [
    "extra_labels = widgets.Dropdown(\n",
    "            options = make_query.get_extra_(INVERSION_WORKLFOW, name=None)\n",
    "        )\n",
    "extra_labels"
   ]
  },
  {
   "cell_type": "code",
   "execution_count": null,
   "metadata": {},
   "outputs": [],
   "source": [
    "def get_data_inversions():\n",
    "    qb = QueryBuilder()\n",
    "    qb.append(\n",
    "                INVERSION_WORKLFOW,\n",
    "                tag = 'inv_w',\n",
    "                filters={\"attributes.exit_status\": 0,\n",
    "                         \"extras\": {\"has_key\": extra_labels.value}},\n",
    "                project=[\"id\"],\n",
    "            ).append(\n",
    "                INVERSION,\n",
    "                tag = 'inv',\n",
    "                with_incoming = 'inv_w', \n",
    "            )\n",
    "    qb.append(orm.Dict,\n",
    "            with_outgoing = 'inv',\n",
    "            project = ['attributes.run_str','attributes.dtm_start','attributes.dtm_end'])\n",
    "    qb.append(orm.RemoteStashFolderData, \n",
    "            with_incoming = 'inv',\n",
    "            project = ['attributes.target_basepath'])\n",
    "    return qb.all()"
   ]
  },
  {
   "cell_type": "code",
   "execution_count": null,
   "metadata": {},
   "outputs": [],
   "source": [
    "\n",
    "def gen_table():\n",
    "    html = \"\"\"<style>\n",
    "            table, th, td {\n",
    "                border: 1px solid;\n",
    "                text-align: center;\n",
    "                padding: 5px}</style>\n",
    "            <table>\n",
    "                    <tr>\n",
    "                        <th>Id</th>\n",
    "                        <th>run.str</th>\n",
    "                        <th>dtm.start</th>\n",
    "                        <th>dtm.end</th>\n",
    "                        <th>Remote address</th>\n",
    "                    </tr>\"\"\"\n",
    "    for i in get_data_inversions(): \n",
    "        html+=f\"\"\"  <td>{i[0]}</td>\n",
    "                    <td>{i[1]}</td>\n",
    "                    <td>{i[2]}</td>\n",
    "                    <td>{i[3]}</td>\n",
    "                    <td>{i[4]}</td>\n",
    "                    </tr>\"\"\"\n",
    "    html += \"</table>\"\n",
    "    return html"
   ]
  },
  {
   "cell_type": "code",
   "execution_count": null,
   "metadata": {},
   "outputs": [],
   "source": [
    "search_b = widgets.Button(description = 'Search',\n",
    "                          button_style='info')\n",
    "out = widgets.Output()\n",
    "display(search_b,out)\n",
    "def on_button_clicked(b):\n",
    "    with out:\n",
    "        clear_output()\n",
    "        display(widgets.HTML(gen_table()))\n",
    "    \n",
    "search_b.on_click(on_button_clicked)"
   ]
  }
 ],
 "metadata": {
  "kernelspec": {
   "display_name": "Python 3 (ipykernel)",
   "language": "python",
   "name": "python3"
  },
  "language_info": {
   "codemirror_mode": {
    "name": "ipython",
    "version": 3
   },
   "file_extension": ".py",
   "mimetype": "text/x-python",
   "name": "python",
   "nbconvert_exporter": "python",
   "pygments_lexer": "ipython3",
   "version": "3.9.13"
  }
 },
 "nbformat": 4,
 "nbformat_minor": 2
}
