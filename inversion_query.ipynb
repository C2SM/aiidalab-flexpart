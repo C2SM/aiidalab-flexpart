{
 "cells": [
  {
   "cell_type": "code",
   "execution_count": null,
   "metadata": {},
   "outputs": [],
   "source": [
    "from aiida import load_profile, common, orm \n",
    "load_profile();\n",
    "\n",
    "from aiida.orm import QueryBuilder\n",
    "import ipywidgets as widgets\n",
    "from IPython.display import display\n",
    "from widgets import query, misc\n",
    "import aiidalab_widgets_base as awb\n",
    "from settings import *\n",
    "import pandas as pd\n",
    "\n",
    "from IPython.core.display import display, HTML\n",
    "display(HTML(\"\"\"<style>\n",
    ".output_wrapper, .output {\n",
    "    height:auto !important;\n",
    "    max-height:10000px;\n",
    "}\n",
    ".output_scroll {\n",
    "    box-shadow:none !important;\n",
    "    webkit-box-shadow:none !important;\n",
    "}\n",
    "</style>\"\"\"))"
   ]
  },
  {
   "cell_type": "markdown",
   "metadata": {},
   "source": [
    "# Inversion results"
   ]
  },
  {
   "cell_type": "markdown",
   "metadata": {},
   "source": [
    "Remote directories of successful inversions. "
   ]
  },
  {
   "cell_type": "code",
   "execution_count": null,
   "metadata": {},
   "outputs": [],
   "source": [
    "qb = QueryBuilder()\n",
    "qb.append(\n",
    "            INVERSION,\n",
    "            tag = 'inv',\n",
    "            filters={\"attributes.exit_status\": 0},\n",
    "            project=[\"id\"],#ctime\n",
    "        )\n",
    "qb.append(orm.RemoteData, \n",
    "          with_incoming = 'inv',\n",
    "          project = ['attributes.remote_path'])\n",
    "\n",
    "for i in qb.all():\n",
    "    print(i)"
   ]
  }
 ],
 "metadata": {
  "kernelspec": {
   "display_name": "Python 3 (ipykernel)",
   "language": "python",
   "name": "python3"
  },
  "language_info": {
   "codemirror_mode": {
    "name": "ipython",
    "version": 3
   },
   "file_extension": ".py",
   "mimetype": "text/x-python",
   "name": "python",
   "nbconvert_exporter": "python",
   "pygments_lexer": "ipython3",
   "version": "3.9.13"
  }
 },
 "nbformat": 4,
 "nbformat_minor": 2
}
