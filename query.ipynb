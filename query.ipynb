{
 "cells": [
  {
   "cell_type": "code",
   "execution_count": 11,
   "metadata": {},
   "outputs": [
    {
     "data": {
      "application/vnd.jupyter.widget-view+json": {
       "model_id": "7a5c1198723945edba97028463bdf645",
       "version_major": 2,
       "version_minor": 0
      },
      "text/plain": []
     },
     "metadata": {},
     "output_type": "display_data"
    },
    {
     "data": {
      "text/html": [
       "<style>\n",
       ".output_wrapper, .output {\n",
       "    height:auto !important;\n",
       "    max-height:10000px;\n",
       "}\n",
       ".output_scroll {\n",
       "    box-shadow:none !important;\n",
       "    webkit-box-shadow:none !important;\n",
       "}\n",
       "</style>"
      ],
      "text/plain": [
       "<IPython.core.display.HTML object>"
      ]
     },
     "metadata": {},
     "output_type": "display_data"
    }
   ],
   "source": [
    "from aiida import load_profile, common, orm \n",
    "load_profile();\n",
    "\n",
    "import ipywidgets as widgets\n",
    "from IPython.display import display\n",
    "from widgets import query, misc, code_setup\n",
    "import aiidalab_widgets_base as awb\n",
    "from settings import *\n",
    "import pandas as pd\n",
    "import base64\n",
    "from utils import utils\n",
    "from pathlib import Path\n",
    "from IPython.core.display import display, HTML\n",
    "\n",
    "display(HTML(\"\"\"<style>\n",
    ".output_wrapper, .output {\n",
    "    height:auto !important;\n",
    "    max-height:10000px;\n",
    "}\n",
    ".output_scroll {\n",
    "    box-shadow:none !important;\n",
    "    webkit-box-shadow:none !important;\n",
    "}\n",
    "</style>\"\"\"))\n",
    "\n",
    "path_config = Path.cwd()/'config/stash_files.yaml'"
   ]
  },
  {
   "cell_type": "markdown",
   "metadata": {},
   "source": [
    "# FLEXPART-COSMO/IFS results\n",
    "## and sensitivities collection job"
   ]
  },
  {
   "cell_type": "markdown",
   "metadata": {},
   "source": [
    "How it works:<br>\n",
    "<ul>\n",
    "    <li> <b> 🔍 Step 1:</b> Query for the transport model results. You can search dirctly by presetting in the basic tab below (recommended),<br> or enter in the advance tab and select each paramter individualy. </li>\n",
    "    <li> <b> 🚀 Step 2:</b> Select the desired results and click submit to start the collect sensitivities job. </li>\n",
    "</ul>\n",
    "\n",
    "<b>Surface footprints</b> can be seen by clicking on the specific day (if available)."
   ]
  },
  {
   "cell_type": "code",
   "execution_count": 12,
   "metadata": {},
   "outputs": [
    {
     "data": {
      "application/vnd.jupyter.widget-view+json": {
       "model_id": "82d5f6ed546f44ec9c476d8307650d7f",
       "version_major": 2,
       "version_minor": 0
      },
      "text/plain": [
       "SearchCalculations(children=(Tab(children=(HBox(children=(Text(value='2020-01-01--2020-12-31', description='Da…"
      ]
     },
     "metadata": {},
     "output_type": "display_data"
    }
   ],
   "source": [
    "misc = misc.Misc()\n",
    "q = query.SearchCalculations()\n",
    "q"
   ]
  },
  {
   "cell_type": "code",
   "execution_count": null,
   "metadata": {},
   "outputs": [],
   "source": [
    "def fill_model_output_df():\n",
    "    \"\"\" Reformat and filter q.remotes\n",
    "        to create q.full_remotes dataframe\n",
    "        containing the selected results only\n",
    "     \"\"\"\n",
    "    for i in q.w_checkboxes:\n",
    "        if i.value == True:\n",
    "            group_name = i.description\n",
    "            q.full_remotes = pd.concat([q.full_remotes,q.remotes.loc[q.remotes['w_hash'] == group_name]],\n",
    "            ignore_index = True)\n",
    "    if q.full_remotes.empty:\n",
    "        return \n",
    "    else:\n",
    "        q.full_remotes['date'] = q.full_remotes['date'].str[:10]\n",
    "        q.full_remotes['id'] = q.full_remotes['date'].replace('-','_', regex=True)+q.full_remotes['location'].replace('-','_', regex=True)\n",
    "    "
   ]
  },
  {
   "cell_type": "code",
   "execution_count": null,
   "metadata": {},
   "outputs": [
    {
     "data": {
      "application/vnd.jupyter.widget-view+json": {
       "model_id": "92ddb3165be54312bbd74d8e38904e72",
       "version_major": 2,
       "version_minor": 0
      },
      "text/plain": [
       "HTML(value='')"
      ]
     },
     "metadata": {},
     "output_type": "display_data"
    }
   ],
   "source": [
    "def get_file_to_download(change=None):\n",
    "        #Creates df of selected results to be downloaded\n",
    "        fill_model_output_df()\n",
    "        \n",
    "        q.full_remotes['date'] = pd.to_datetime(q.full_remotes['date'])\n",
    "        q.full_remotes.sort_values(by='date', inplace = True)\n",
    "\n",
    "        if not q.full_remotes.empty:\n",
    "                q.full_remotes['label']=q.presettings.value\n",
    "                q.full_remotes['post_stash_address']=[i.target_basepath for i in q.full_remotes.RemoteStash]\n",
    "                q.full_remotes['flexpart_stash_address']=[i.target_basepath for i in q.full_remotes.flexpart_stash]\n",
    "                \n",
    "                q.download_link.value = utils.download_button('flexpart_results.csv',\n",
    "                                                        q.full_remotes[['date',\n",
    "                                                                        'flexpart_stash_address',\n",
    "                                                                        'label',\n",
    "                                                                        'location']],\n",
    "                                                        'Download .csv flexpart results'\n",
    "                                                        )\n",
    "                q.download_link.value +='<br>'\n",
    "                q.download_link.value += utils.download_button('post_results.csv',\n",
    "                                                        q.full_remotes[['date',\n",
    "                                                                        'post_stash_address',\n",
    "                                                                        'label',\n",
    "                                                                        'location']],\n",
    "                                                        'Download .csv post results'\n",
    "                                                        )\n",
    "        \n",
    "#download_html = widgets.HTML('')\n",
    "\n",
    "# TODO trigger by ? \n",
    "# q.check_all.observe(get_file_to_download,names=\"value\")\n",
    "\n",
    "#download_html\n"
   ]
  },
  {
   "cell_type": "markdown",
   "metadata": {},
   "source": [
    "### Submit sensitivities collection"
   ]
  },
  {
   "cell_type": "code",
   "execution_count": null,
   "metadata": {},
   "outputs": [],
   "source": [
    "resources = code_setup.CodeSetup(plugin_name='collect_sens')\n",
    "resources"
   ]
  },
  {
   "cell_type": "code",
   "execution_count": null,
   "metadata": {},
   "outputs": [],
   "source": [
    "out = widgets.Output()\n",
    "prepend_text_ = f'#SBATCH --constrain=mc\\n'+\\\n",
    "                f'#SBATCH --account={resources.account.value}\\n'\n",
    "\n",
    "def prepare_post():\n",
    "    fill_df()\n",
    "    builder = COLLECT_SENS.get_builder()\n",
    "    builder.code = orm.load_code(resources.codes.value)\n",
    "    builder.metadata.options.custom_scheduler_commands = prepend_text_\n",
    "    builder.remote = dict(zip(q.full_remotes.id,q.full_remotes.RemoteStash))\n",
    "    builder.model = q.full_remotes['model'][0]\n",
    "    builder.outgrid = q.full_remotes['outgrid'][0]\n",
    "    builder.outgrid_n = False\n",
    "    if 'outgrid_n' in q.full_remotes.keys():\n",
    "        builder.outgrid_n = True\n",
    "    builder.metadata.options.stash = {\n",
    "        'source_list':utils.read_yaml_data(path_config,\n",
    "                                           names ='COLLECTION')['COLLECTION'],\n",
    "        'target_base': resources.stash_address.value,\n",
    "        'stash_mode': common.StashMode.COPY.value,\n",
    "        }\n",
    "    return builder"
   ]
  },
  {
   "cell_type": "code",
   "execution_count": null,
   "metadata": {},
   "outputs": [],
   "source": [
    "btn_submit_ = awb.SubmitButtonWidget(\n",
    "        COLLECT_SENS,\n",
    "        inputs_generator = prepare_post,\n",
    "        disable_after_submit = False,\n",
    "        append_output = True,\n",
    "    )\n",
    "btn_submit_.btn_submit.button_style=\"success\"\n",
    "display(btn_submit_, out)"
   ]
  }
 ],
 "metadata": {
  "kernelspec": {
   "display_name": "Python 3 (ipykernel)",
   "language": "python",
   "name": "python3"
  },
  "language_info": {
   "codemirror_mode": {
    "name": "ipython",
    "version": 3
   },
   "file_extension": ".py",
   "mimetype": "text/x-python",
   "name": "python",
   "nbconvert_exporter": "python",
   "pygments_lexer": "ipython3",
   "version": "3.9.13"
  }
 },
 "nbformat": 4,
 "nbformat_minor": 2
}
