{
 "cells": [
  {
   "cell_type": "code",
   "execution_count": null,
   "metadata": {},
   "outputs": [],
   "source": [
    "from aiida import load_profile,orm, engine, common\n",
    "load_profile();\n",
    "import ipywidgets as widgets\n",
    "from IPython.display import display\n",
    "from widgets import sens_query, inversion_params, import_nc,presettings, code_setup\n",
    "import aiidalab_widgets_base as awb\n",
    "from settings import *\n",
    "from utils import make_query,utils\n",
    "import yaml\n",
    "from pathlib import Path\n",
    "\n",
    "out = widgets.Output()\n",
    "path_config = Path.cwd()/'config/stash_files.yaml'"
   ]
  },
  {
   "cell_type": "code",
   "execution_count": null,
   "metadata": {},
   "outputs": [],
   "source": [
    "def get_dict_from_filter():\n",
    "    filter_dict  ={}\n",
    "    for k,v in sq.site_filter.items():\n",
    "        filter_={}\n",
    "        for i in v.children[0].children[0].children:\n",
    "            f = {}\n",
    "            for j in range(4):\n",
    "                f[i.children[j].description] = i.children[j].value\n",
    "            filter_[i.children[0].value]=f\n",
    "        filter_dict[k] = filter_\n",
    "    return filter_dict\n",
    "   "
   ]
  },
  {
   "cell_type": "markdown",
   "metadata": {},
   "source": [
    "# Inversion"
   ]
  },
  {
   "cell_type": "markdown",
   "metadata": {},
   "source": [
    "### Import data"
   ]
  },
  {
   "cell_type": "code",
   "execution_count": null,
   "metadata": {},
   "outputs": [],
   "source": [
    "import_nc = import_nc.Import()\n",
    "import_nc"
   ]
  },
  {
   "cell_type": "markdown",
   "metadata": {},
   "source": [
    "### Step 1"
   ]
  },
  {
   "cell_type": "code",
   "execution_count": null,
   "metadata": {},
   "outputs": [],
   "source": [
    "sq = sens_query.SearchSens()\n",
    "sq"
   ]
  },
  {
   "cell_type": "markdown",
   "metadata": {},
   "source": [
    "### Step 2"
   ]
  },
  {
   "cell_type": "code",
   "execution_count": null,
   "metadata": {},
   "outputs": [],
   "source": [
    "inv = inversion_params.InversionParams()\n",
    "inv\n"
   ]
  },
  {
   "cell_type": "markdown",
   "metadata": {},
   "source": [
    "### Step 3"
   ]
  },
  {
   "cell_type": "code",
   "execution_count": null,
   "metadata": {},
   "outputs": [],
   "source": [
    "resources = code_setup.CodeSetup(plugin_name='inversion')\n",
    "\n",
    "account = widgets.Text(\n",
    "            description=\"account\",\n",
    "            value = 'em05',\n",
    "            style = {\"description_width\": \"initial\"},\n",
    "        )\n",
    "wall_time = widgets.IntText(\n",
    "            description=\"wall time\",\n",
    "            value = 1800,\n",
    "            style = {\"description_width\": \"initial\"},\n",
    "        )\n",
    "\n",
    "block = widgets.VBox(children = [resources,\n",
    "                                 account,\n",
    "                                 wall_time\n",
    "                                 ])\n",
    "block\n"
   ]
  },
  {
   "cell_type": "code",
   "execution_count": null,
   "metadata": {},
   "outputs": [],
   "source": [
    "pre = presettings.Presettings(INVERSION_WORKLFOW,\n",
    "                              parameters = {'params':inv,\n",
    "                                            'locations':sq})\n",
    "pre"
   ]
  },
  {
   "cell_type": "code",
   "execution_count": null,
   "metadata": {},
   "outputs": [],
   "source": [
    "def prepare_inversion():\n",
    "\n",
    "    prepend_text_ = f'#SBATCH --account={account.value}'\n",
    "\n",
    "    curent_names = make_query.get_extra_(INVERSION_WORKLFOW, name=None)\n",
    "    if not inv.inv_name.value or inv.inv_name.value in curent_names:\n",
    "        print('Invalid or empty run.str')\n",
    "        return\n",
    "    \n",
    "    inverstion_parameters = inv.construct_dict()\n",
    "    filter_dict = get_dict_from_filter()\n",
    "\n",
    "    extras_dict = {k:{x.description:x.value for x in v} for k,v in sq.site_extras.items()}\n",
    "    for k in extras_dict.keys():\n",
    "        extras_dict[k]['bg.obs.fn'] = sq.available_obs_list[extras_dict[k]['bg.obs.fn']].attributes[\"remote_path\"]\n",
    "\n",
    "    for i in sq.list_info_obs:\n",
    "        i.update(extras_dict[i['name']])\n",
    "        i.update(filter_dict[i['name']])\n",
    "\n",
    "    inverstion_parameters.update({'sites':{i['name']:i for i in sq.list_info_obs}})\n",
    "\n",
    "    #other params\n",
    "    inverstion_parameters.update({'para': sq.species.value,\n",
    "                                'domain':sq.domain.value,\n",
    "                                'transport.model':sq.model.value,\n",
    "                                'res.dir':'./'})\n",
    "    \n",
    "    #test conversion\n",
    "    inverstion_parameters = {\n",
    "    key.replace(\".\", \"_\"): value for key, value in inverstion_parameters.items()\n",
    "}\n",
    "    remotes_dictionary = {k[:-3].replace('-','_'):v \n",
    "                         for k,v in sq.list_remotes.items()}\n",
    "    \n",
    "    #selected obs format change\n",
    "    reformated_observations = {k.replace('-','_'):v \n",
    "                               for k,v in sq.selected_obs.items()}\n",
    "    \n",
    "    #builder starts\n",
    "    builder = INVERSION_WORKLFOW.get_builder()\n",
    "    builder.inversion_code = orm.load_code(resources.codes.value)\n",
    "    builder.remotes = remotes_dictionary\n",
    "    builder.observations =  reformated_observations\n",
    "    builder.inversioncalc.metadata.options.custom_scheduler_commands = prepend_text_\n",
    "    builder.inversioncalc.metadata.options.max_wallclock_seconds = wall_time.value\n",
    "    builder.inv_params = orm.Dict(inverstion_parameters)\n",
    "    builder.date_range = orm.Str(sq.date_range.value)\n",
    "    builder.chunk = orm.Str(inv.chunk.value)\n",
    "    builder.chunk_w = orm.Str(inv.chunk_w.value)\n",
    "    builder.inversioncalc.metadata.options.stash = {\n",
    "        'source_list': utils.read_yaml_data(path_config,\n",
    "                                            names ='INVERSION')['INVERSION'],\n",
    "        'target_base': resources.stash_address.value,\n",
    "        'stash_mode': common.StashMode.COPY.value,\n",
    "    }\n",
    "    \n",
    "    if pre.save_settings_b.value:\n",
    "        builder.name = inv.inv_name.value\n",
    "\n",
    "    return builder\n"
   ]
  },
  {
   "cell_type": "code",
   "execution_count": null,
   "metadata": {},
   "outputs": [],
   "source": [
    "btn_submit_ = awb.SubmitButtonWidget(\n",
    "    INVERSION_WORKLFOW,\n",
    "    inputs_generator = prepare_inversion,\n",
    "    disable_after_submit = False,\n",
    "    append_output = True,\n",
    ")\n",
    "btn_submit_.btn_submit.button_style=\"success\"\n",
    "display(btn_submit_, out)"
   ]
  }
 ],
 "metadata": {
  "language_info": {
   "name": "python"
  }
 },
 "nbformat": 4,
 "nbformat_minor": 2
}
