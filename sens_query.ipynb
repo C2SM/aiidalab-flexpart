{
 "cells": [
  {
   "cell_type": "code",
   "execution_count": null,
   "metadata": {},
   "outputs": [],
   "source": [
    "from aiida import load_profile,orm, engine\n",
    "from datetime import datetime\n",
    "from dateutil.relativedelta import relativedelta\n",
    "load_profile();\n",
    "import ipywidgets as widgets\n",
    "from IPython.display import display\n",
    "from widgets import sens_query, inversion_params\n",
    "import aiidalab_widgets_base as awb\n",
    "from settings import *\n",
    "\n",
    "\n",
    "out = widgets.Output()"
   ]
  },
  {
   "cell_type": "code",
   "execution_count": null,
   "metadata": {},
   "outputs": [],
   "source": [
    "def make_date_range(start:datetime, end:datetime, months:int)->dict:\n",
    "    dates = {}\n",
    "    x = start - relativedelta(months=1)\n",
    "    end += relativedelta(months=1)\n",
    "    while x < end:\n",
    "        dates[datetime.strftime(x,'%Y-%m-%d')] = datetime.strftime(x+relativedelta(months=months-1),'%Y-%m-%d')\n",
    "        x += relativedelta(months=months)\n",
    "    return dates"
   ]
  },
  {
   "cell_type": "markdown",
   "metadata": {},
   "source": [
    "# Inversion"
   ]
  },
  {
   "cell_type": "markdown",
   "metadata": {},
   "source": [
    "### Import data"
   ]
  },
  {
   "cell_type": "code",
   "execution_count": null,
   "metadata": {},
   "outputs": [],
   "source": [
    "style = {\"description_width\": \"initial\"}\n",
    "address = widgets.Text(\n",
    "            placeholder = 'Address to files',\n",
    "            description=\"Remote address\",\n",
    "            style=style,\n",
    "        )\n",
    "def prepare_inspect():\n",
    "    computer = orm.load_computer(label='daint')\n",
    "    remote_path = orm.RemoteData(remote_path = address.value,\n",
    "                             computer = computer)\n",
    "    builder = INSPECT.get_builder()\n",
    "    builder.remotes = {'a':remote_path,}\n",
    "                      #'b':remote_path_2}\n",
    "    return builder\n",
    "\n",
    "btn_submit_1 = awb.SubmitButtonWidget(\n",
    "    INSPECT,\n",
    "    inputs_generator = prepare_inspect,\n",
    "    disable_after_submit = False,\n",
    "    append_output = True,\n",
    ")\n",
    "btn_submit_1.btn_submit.button_style=\"info\"\n",
    "btn_submit_1.btn_submit.description=\"Launch import\"\n",
    "\n",
    "line_h = widgets.HTML(\n",
    "            value=\"\"\"<hr>\n",
    "            \"\"\"\n",
    "        )\n",
    "info_text = widgets.HTML(\n",
    "            value=\"\"\"Find for nc lise in stash folder of previous \n",
    "            Collect sensitivities calclations.\n",
    "            \"\"\"\n",
    "        )\n",
    "\n",
    "def prepare_inspect_cs():\n",
    "    qb = orm.QueryBuilder()\n",
    "    qb.append(COLLECT_SENS, tag=\"cs\", \n",
    "              filters={\"attributes.exit_status\": 0}\n",
    "              )\n",
    "    qb.append(orm.RemoteStashFolderData, with_incoming=\"cs\", project=\"*\")\n",
    "    builder = INSPECT.get_builder()\n",
    "    directories_ = {f'test_{j}':i[0] for j,i in enumerate(qb.all())}\n",
    "    if directories_:\n",
    "        builder.remotes_cs = directories_\n",
    "        return builder\n",
    "    else:\n",
    "        print('No files found.')\n",
    "\n",
    "btn_submit_2 = awb.SubmitButtonWidget(\n",
    "    INSPECT,\n",
    "    inputs_generator = prepare_inspect_cs,\n",
    "    disable_after_submit = False,\n",
    "    append_output = True,\n",
    ")\n",
    "btn_submit_2.btn_submit.button_style=\"success\"\n",
    "btn_submit_2.btn_submit.description=\"Launch CS import\"\n",
    "\n",
    "acc = widgets.Accordion(\n",
    "            children=[\n",
    "                 widgets.VBox(\n",
    "                    children=[\n",
    "                address,\n",
    "                btn_submit_1,\n",
    "                line_h,\n",
    "                info_text,\n",
    "                btn_submit_2\n",
    "                    ])\n",
    "            ],\n",
    "        )\n",
    "acc.set_title(0, \"Import\")\n",
    "acc.selected_index = None\n",
    "acc"
   ]
  },
  {
   "cell_type": "markdown",
   "metadata": {},
   "source": [
    "### Step 1"
   ]
  },
  {
   "cell_type": "code",
   "execution_count": null,
   "metadata": {},
   "outputs": [],
   "source": [
    "sq = sens_query.SearchSens()\n",
    "sq"
   ]
  },
  {
   "cell_type": "markdown",
   "metadata": {},
   "source": [
    "### Step 2"
   ]
  },
  {
   "cell_type": "code",
   "execution_count": null,
   "metadata": {},
   "outputs": [],
   "source": [
    "inv = inversion_params.InversionParams()\n",
    "inv\n"
   ]
  },
  {
   "cell_type": "markdown",
   "metadata": {},
   "source": [
    "### Step 3"
   ]
  },
  {
   "cell_type": "code",
   "execution_count": null,
   "metadata": {},
   "outputs": [],
   "source": [
    "prepend_text_ = f'#SBATCH --constrain=mc\\n'+\\\n",
    "                f'#SBATCH --account=em05\\n'\n",
    "              "
   ]
  },
  {
   "cell_type": "code",
   "execution_count": null,
   "metadata": {},
   "outputs": [],
   "source": [
    "def prepare_inversion(s_date,e_date):\n",
    "    \n",
    "    inverstion_parameters = inv.construct_dict()\n",
    "    filter_dict = get_dict_from_filter()\n",
    "    extras_dict = {k:{x.description:x.value for x in v} for k,v in sq.site_extras.items()}\n",
    "\n",
    "    for i in sq.list_info_obs:\n",
    "        i.update(extras_dict[i['name']])\n",
    "        i.update(filter_dict[i['name']])\n",
    "\n",
    "    inverstion_parameters.update({'sites':{i['name']:i for i in sq.list_info_obs}})\n",
    "\n",
    "    #other params\n",
    "    inverstion_parameters.update({'para': sq.species.value,\n",
    "                                'domain':sq.domain.value,\n",
    "                                'transport.model':sq.model.value,\n",
    "                                'dtm.start':s_date,\n",
    "                                'dtm.end':e_date,\n",
    "                                'res.dir':'./'})\n",
    "    \n",
    "    #test conversion\n",
    "    inverstion_parameters = {\n",
    "    key.replace(\".\", \"_\"): value for key, value in inverstion_parameters.items()\n",
    "}\n",
    "    print(inverstion_parameters)\n",
    "    remotes_dictionary = {k[:-3].replace('-','_'):v \n",
    "                         for k,v in sq.list_remotes.items()}\n",
    "    \n",
    "    #builder starts\n",
    "    builder = INVERSION.get_builder()\n",
    "    builder.code = orm.load_code('inversion@daint')\n",
    "    builder.remotes = remotes_dictionary\n",
    "    builder.observations = sq.selected_obs\n",
    "    builder.metadata.options.custom_scheduler_commands = prepend_text_\n",
    "    builder.inv_params = orm.Dict(inverstion_parameters)\n",
    "    builder.start_date = orm.Str(s_date)\n",
    "    builder.end_date = orm.Str(e_date)\n",
    "    builder.chunk = orm.Str(inv.chunk.value)\n",
    "    builder.chunk_w = orm.Str(inv.chunk_w.value)\n",
    "    return builder\n",
    "\n",
    "def get_dict_from_filter():\n",
    "    filter_dict  ={}\n",
    "    for k,v in sq.site_filter.items():\n",
    "        filter_={}\n",
    "        for i in v.children[0].children[0].children:\n",
    "            f = {}\n",
    "            for j in range(4):\n",
    "                f[i.children[j].description] = i.children[j].value\n",
    "            filter_[i.children[0].value]=f\n",
    "        filter_dict[k] = filter_\n",
    "    return filter_dict\n",
    "        \n",
    "\n",
    "def run_inversions():\n",
    "\n",
    "    text = \"\"\"Submitted inversion from {0} to {1}. Click\n",
    "        <a href=/apps/apps/aiidalab-widgets-base/notebooks/process.ipynb?id={2}\n",
    "        target=\"_blank\">here</a> to follow.<br>\"\"\"\n",
    "    submision_text = widgets.HTML('')\n",
    "    start = datetime.strptime(sq.date_range.value[:10], '%Y-%m-%d')\n",
    "    end = datetime.strptime(sq.date_range.value[12:], '%Y-%m-%d')\n",
    "    dates = make_date_range(start, end, 3)\n",
    "    for s,e in dates.items():\n",
    "        pass\n",
    "        #process = engine.submit(prepare_inversion(s,e))\n",
    "        #submision_text.value += text.format(s,e,process.pk)\n",
    "    display(submision_text)\n"
   ]
  },
  {
   "cell_type": "code",
   "execution_count": null,
   "metadata": {},
   "outputs": [],
   "source": [
    "button_inversion = widgets.Button(\n",
    "    description='Submit inversion',\n",
    ")\n",
    "def on_click(b):   \n",
    "    start = datetime.strptime(sq.date_range.value[:10], '%Y-%m-%d')\n",
    "    end = datetime.strptime(sq.date_range.value[12:], '%Y-%m-%d')\n",
    "    dates = make_date_range(start, end, 3)\n",
    "    print(dates)\n",
    "    with out:\n",
    "        run_inversions()\n",
    "       \n",
    "button_inversion.on_click(on_click)\n",
    "button_inversion"
   ]
  }
 ],
 "metadata": {
  "language_info": {
   "name": "python"
  }
 },
 "nbformat": 4,
 "nbformat_minor": 2
}
