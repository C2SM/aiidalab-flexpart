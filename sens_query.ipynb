{
 "cells": [
  {
   "cell_type": "code",
   "execution_count": null,
   "metadata": {},
   "outputs": [],
   "source": [
    "from aiida import load_profile,orm\n",
    "load_profile();\n",
    "import ipywidgets as widgets\n",
    "from IPython.display import display\n",
    "from widgets import sens_query, inversion_params\n",
    "import aiidalab_widgets_base as awb\n",
    "from settings import *\n",
    "import yaml\n",
    "\n",
    "out = widgets.Output()"
   ]
  },
  {
   "cell_type": "markdown",
   "metadata": {},
   "source": [
    "# Inversion"
   ]
  },
  {
   "cell_type": "markdown",
   "metadata": {},
   "source": [
    "### Import data"
   ]
  },
  {
   "cell_type": "code",
   "execution_count": null,
   "metadata": {},
   "outputs": [],
   "source": [
    "style = {\"description_width\": \"initial\"}\n",
    "address = widgets.Text(\n",
    "            placeholder = 'Address to files',\n",
    "            description=\"Remote address\",\n",
    "            style=style,\n",
    "        )\n",
    "def prepare_inspect():\n",
    "    computer = orm.load_computer(label='daint')\n",
    "    remote_path = orm.RemoteData(remote_path = address.value,\n",
    "                             computer = computer)\n",
    "    builder = INSPECT.get_builder()\n",
    "    builder.remotes = {'a':remote_path,}\n",
    "                      #'b':remote_path_2}\n",
    "    return builder\n",
    "\n",
    "btn_submit_1 = awb.SubmitButtonWidget(\n",
    "    INSPECT,\n",
    "    inputs_generator = prepare_inspect,\n",
    "    disable_after_submit = False,\n",
    "    append_output = True,\n",
    ")\n",
    "btn_submit_1.btn_submit.button_style=\"info\"\n",
    "btn_submit_1.btn_submit.description=\"Launch import\"\n",
    "\n",
    "line_h = widgets.HTML(\n",
    "            value=\"\"\"<hr>\n",
    "            \"\"\"\n",
    "        )\n",
    "info_text = widgets.HTML(\n",
    "            value=\"\"\"Find for nc lise in stash folder of previous \n",
    "            Collect sensitivities calclations.\n",
    "            \"\"\"\n",
    "        )\n",
    "\n",
    "def prepare_inspect_cs():\n",
    "    qb = orm.QueryBuilder()\n",
    "    qb.append(COLLECT_SENS, tag=\"cs\", \n",
    "              filters={\"attributes.exit_status\": 0}\n",
    "              )\n",
    "    qb.append(orm.RemoteStashFolderData, with_incoming=\"cs\", project=\"*\")\n",
    "    builder = INSPECT.get_builder()\n",
    "    directories_ = {f'test_{j}':i[0] for j,i in enumerate(qb.all())}\n",
    "    if directories_:\n",
    "        builder.remotes_cs = directories_\n",
    "        return builder\n",
    "    else:\n",
    "        print('No files found.')\n",
    "\n",
    "btn_submit_2 = awb.SubmitButtonWidget(\n",
    "    INSPECT,\n",
    "    inputs_generator = prepare_inspect_cs,\n",
    "    disable_after_submit = False,\n",
    "    append_output = True,\n",
    ")\n",
    "btn_submit_2.btn_submit.button_style=\"success\"\n",
    "btn_submit_2.btn_submit.description=\"Launch CS import\"\n",
    "\n",
    "acc = widgets.Accordion(\n",
    "            children=[\n",
    "                 widgets.VBox(\n",
    "                    children=[\n",
    "                address,\n",
    "                btn_submit_1,\n",
    "                line_h,\n",
    "                info_text,\n",
    "                btn_submit_2\n",
    "                    ])\n",
    "            ],\n",
    "        )\n",
    "acc.set_title(0, \"Import\")\n",
    "acc.selected_index = None\n",
    "acc"
   ]
  },
  {
   "cell_type": "markdown",
   "metadata": {},
   "source": [
    "### Step 1"
   ]
  },
  {
   "cell_type": "code",
   "execution_count": null,
   "metadata": {},
   "outputs": [],
   "source": [
    "sq = sens_query.SearchSens()\n",
    "sq"
   ]
  },
  {
   "cell_type": "markdown",
   "metadata": {},
   "source": [
    "### Step 2"
   ]
  },
  {
   "cell_type": "code",
   "execution_count": null,
   "metadata": {},
   "outputs": [],
   "source": [
    "inv = inversion_params.InversionParams()\n",
    "inv\n"
   ]
  },
  {
   "cell_type": "code",
   "execution_count": null,
   "metadata": {},
   "outputs": [],
   "source": [
    "inversion_button = widgets.Button(description = 'Submit Inversion',\n",
    "                                  button_style = \"success\")\n",
    "inverstion_parameters = inv.construct_dict()\n",
    "def on_click(b):\n",
    "    out.clear_output()\n",
    "    inverstion_parameters.update({'sites':{i['name']:i for i in sq.list_info_obs}})\n",
    "    with open('params_inversion.yaml','w') as f:\n",
    "        _ = yaml.dump(inverstion_parameters,f)\n",
    "\n",
    "    \n",
    "inversion_button.on_click(on_click)\n",
    "display(inversion_button,out)"
   ]
  },
  {
   "cell_type": "markdown",
   "metadata": {},
   "source": [
    "### Step 3"
   ]
  },
  {
   "cell_type": "code",
   "execution_count": null,
   "metadata": {},
   "outputs": [],
   "source": [
    "def prepare_inversion():\n",
    "    \n",
    "    inverstion_parameters = inv.construct_dict()\n",
    "    inverstion_parameters.update({'sites':{i['name']:i for i in sq.list_info_obs}})\n",
    "\n",
    "    builder = INVERSION.get_builder()\n",
    "    builder.code = orm.load_code('inversion@daint')\n",
    "    builder.remotes = sq.list_remotes\n",
    "    builder.observations = sq.selected_obs\n",
    "    builder.inv_params = orm.Dict(inverstion_parameters)\n",
    "    builder.start_date = orm.Str(sq.date_range.value[:10])\n",
    "    builder.end_date = orm.Str(sq.date_range.value[12:])\n",
    "    builder.chunk = orm.Str(inv.chunk.value)\n",
    "    builder.chunk_w = orm.Str(inv.chunk_w.value)\n",
    "    return builder\n"
   ]
  },
  {
   "cell_type": "code",
   "execution_count": null,
   "metadata": {},
   "outputs": [],
   "source": [
    "btn_submit_ = awb.SubmitButtonWidget(\n",
    "    INVERSION,\n",
    "    inputs_generator = prepare_inversion,\n",
    "    disable_after_submit = False,\n",
    "    append_output = True,\n",
    ")\n",
    "btn_submit_.btn_submit.button_style=\"success\"\n",
    "display(btn_submit_, out)"
   ]
  }
 ],
 "metadata": {
  "language_info": {
   "name": "python"
  }
 },
 "nbformat": 4,
 "nbformat_minor": 2
}
