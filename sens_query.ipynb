{
 "cells": [
  {
   "cell_type": "code",
   "execution_count": null,
   "metadata": {},
   "outputs": [],
   "source": [
    "from aiida import load_profile,orm, engine\n",
    "from datetime import datetime\n",
    "from dateutil.relativedelta import relativedelta\n",
    "load_profile();\n",
    "import ipywidgets as widgets\n",
    "from IPython.display import display\n",
    "from widgets import sens_query, inversion_params, import_nc\n",
    "import aiidalab_widgets_base as awb\n",
    "from settings import *\n",
    "\n",
    "\n",
    "out = widgets.Output()"
   ]
  },
  {
   "cell_type": "code",
   "execution_count": null,
   "metadata": {},
   "outputs": [],
   "source": [
    "def make_date_range(start:datetime, end:datetime, months:int, offset:int)->dict:\n",
    "    dates = {}\n",
    "    x = start - relativedelta(months=offset)\n",
    "    end += relativedelta(months=offset)\n",
    "    while x < end:\n",
    "        dates[datetime.strftime(x,'%Y-%m-%d')] = datetime.strftime(x+relativedelta(months=months),'%Y-%m-%d')\n",
    "        x += relativedelta(months=months)\n",
    "    return dates\n",
    "\n",
    "\n",
    "def split_chunk(start,end,chunk):\n",
    "\n",
    "        if chunk =='year':\n",
    "            return make_date_range(start, end, 12,0)\n",
    "        elif chunk == '3year':\n",
    "            return make_date_range(start, end, 12,12)\n",
    "        elif chunk == 'month':\n",
    "            return make_date_range(start, end, 1,0)\n",
    "        else:\n",
    "            return make_date_range(start, end, 3,1)\n",
    "        \n",
    "\n",
    "def codes_list():\n",
    "    return [\n",
    "        awb.ComputationalResourcesWidget._full_code_label(c[0])\n",
    "        for c in orm.QueryBuilder().append(orm.Code).all()\n",
    "    ]\n",
    "def default(name):\n",
    "    list_codes = codes_list()\n",
    "    return name if name in list_codes else list_codes[0]\n",
    "   "
   ]
  },
  {
   "cell_type": "markdown",
   "metadata": {},
   "source": [
    "# Inversion"
   ]
  },
  {
   "cell_type": "markdown",
   "metadata": {},
   "source": [
    "### Import data"
   ]
  },
  {
   "cell_type": "code",
   "execution_count": null,
   "metadata": {},
   "outputs": [],
   "source": [
    "import_nc = import_nc.Import()\n",
    "import_nc"
   ]
  },
  {
   "cell_type": "markdown",
   "metadata": {},
   "source": [
    "### Step 1"
   ]
  },
  {
   "cell_type": "code",
   "execution_count": null,
   "metadata": {},
   "outputs": [],
   "source": [
    "sq = sens_query.SearchSens()\n",
    "sq"
   ]
  },
  {
   "cell_type": "markdown",
   "metadata": {},
   "source": [
    "### Step 2"
   ]
  },
  {
   "cell_type": "code",
   "execution_count": null,
   "metadata": {},
   "outputs": [],
   "source": [
    "inv = inversion_params.InversionParams()\n",
    "inv\n"
   ]
  },
  {
   "cell_type": "markdown",
   "metadata": {},
   "source": [
    "### Step 3"
   ]
  },
  {
   "cell_type": "code",
   "execution_count": null,
   "metadata": {},
   "outputs": [],
   "source": [
    "codes = widgets.Dropdown(\n",
    "            description=\"code\",\n",
    "            options=codes_list(),\n",
    "            value = default('inversion@daint')\n",
    "        )\n",
    "codes\n"
   ]
  },
  {
   "cell_type": "code",
   "execution_count": null,
   "metadata": {},
   "outputs": [],
   "source": [
    "prepend_text_ = f'#SBATCH --constrain=mc\\n'+\\\n",
    "                f'#SBATCH --account=em05\\n'\n",
    "              "
   ]
  },
  {
   "cell_type": "code",
   "execution_count": null,
   "metadata": {},
   "outputs": [],
   "source": [
    "def prepare_inversion(s_date,e_date):\n",
    "    \n",
    "    inverstion_parameters = inv.construct_dict()\n",
    "    filter_dict = get_dict_from_filter()\n",
    "    extras_dict = {k:{x.description:x.value for x in v} for k,v in sq.site_extras.items()}\n",
    "\n",
    "    for i in sq.list_info_obs:\n",
    "        i.update(extras_dict[i['name']])\n",
    "        i.update(filter_dict[i['name']])\n",
    "\n",
    "    inverstion_parameters.update({'sites':{i['name']:i for i in sq.list_info_obs}})\n",
    "\n",
    "    #other params\n",
    "    inverstion_parameters.update({'para': sq.species.value,\n",
    "                                'domain':sq.domain.value,\n",
    "                                'transport.model':sq.model.value,\n",
    "                                'dtm.start':s_date,\n",
    "                                'dtm.end':e_date,\n",
    "                                'res.dir':'./'})\n",
    "    \n",
    "    #test conversion\n",
    "    inverstion_parameters = {\n",
    "    key.replace(\".\", \"_\"): value for key, value in inverstion_parameters.items()\n",
    "}\n",
    "    print(inverstion_parameters)\n",
    "    remotes_dictionary = {k[:-3].replace('-','_'):v \n",
    "                         for k,v in sq.list_remotes.items()}\n",
    "    \n",
    "    #builder starts\n",
    "    builder = INVERSION.get_builder()\n",
    "    builder.code = orm.load_code(codes.value)\n",
    "    builder.remotes = remotes_dictionary\n",
    "    builder.observations = sq.selected_obs\n",
    "    builder.metadata.options.custom_scheduler_commands = prepend_text_\n",
    "    builder.inv_params = orm.Dict(inverstion_parameters)\n",
    "    builder.start_date = orm.Str(s_date)\n",
    "    builder.end_date = orm.Str(e_date)\n",
    "    builder.chunk = orm.Str(inv.chunk.value)\n",
    "    builder.chunk_w = orm.Str(inv.chunk_w.value)\n",
    "\n",
    "    \"\"\"builder.metadata.options.stash = {\n",
    "        'source_list': ['aiida.out','*'],\n",
    "        'target_base': stash_address + f'{username}/aiida_stash',\n",
    "        'stash_mode': StashMode.COPY.value,\n",
    "    }\"\"\"\n",
    "\n",
    "    return builder\n",
    "\n",
    "def get_dict_from_filter():\n",
    "    filter_dict  ={}\n",
    "    for k,v in sq.site_filter.items():\n",
    "        filter_={}\n",
    "        for i in v.children[0].children[0].children:\n",
    "            f = {}\n",
    "            for j in range(4):\n",
    "                f[i.children[j].description] = i.children[j].value\n",
    "            filter_[i.children[0].value]=f\n",
    "        filter_dict[k] = filter_\n",
    "    return filter_dict\n",
    "        \n",
    "\n",
    "def run_inversions():\n",
    "\n",
    "    text = \"\"\"Submitted inversion from {0} to {1}. Click\n",
    "        <a href=/apps/apps/aiidalab-widgets-base/notebooks/process.ipynb?id={2}\n",
    "        target=\"_blank\">here</a> to follow.<br>\"\"\"\n",
    "    submision_text = widgets.HTML('')\n",
    "    start = datetime.strptime(sq.date_range.value[:10], '%Y-%m-%d')\n",
    "    end = datetime.strptime(sq.date_range.value[12:], '%Y-%m-%d')\n",
    "    dates = split_chunk(start, end, inv.chunk_w.value)\n",
    "\n",
    "    for s,e in dates.items():\n",
    "        process = engine.submit(prepare_inversion(s,e))\n",
    "        submision_text.value += text.format(s,e,process.pk)\n",
    "\n",
    "    display(submision_text)\n"
   ]
  },
  {
   "cell_type": "code",
   "execution_count": null,
   "metadata": {},
   "outputs": [],
   "source": [
    "button_inversion = widgets.Button(\n",
    "    description='Submit inversion',\n",
    ")\n",
    "def on_click(b):   \n",
    "    with out:\n",
    "        run_inversions()\n",
    "       \n",
    "button_inversion.on_click(on_click)\n",
    "button_inversion"
   ]
  }
 ],
 "metadata": {
  "language_info": {
   "name": "python"
  }
 },
 "nbformat": 4,
 "nbformat_minor": 2
}
