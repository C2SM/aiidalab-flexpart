{
 "cells": [
  {
   "cell_type": "code",
   "execution_count": null,
   "metadata": {},
   "outputs": [],
   "source": [
    "from aiida import load_profile,orm, engine\n",
    "from aiida.common.datastructures import StashMode\n",
    "from datetime import datetime\n",
    "from dateutil.relativedelta import relativedelta\n",
    "load_profile();\n",
    "import ipywidgets as widgets\n",
    "from IPython.display import display\n",
    "from widgets import sens_query, inversion_params, import_nc,presettings\n",
    "import aiidalab_widgets_base as awb\n",
    "from settings import *\n",
    "\n",
    "\n",
    "out = widgets.Output()"
   ]
  },
  {
   "cell_type": "code",
   "execution_count": null,
   "metadata": {},
   "outputs": [],
   "source": [
    "def codes_list():\n",
    "    return [\n",
    "        awb.ComputationalResourcesWidget._full_code_label(c[0])\n",
    "        for c in orm.QueryBuilder().append(orm.Code).all()\n",
    "    ]\n",
    "def default(name):\n",
    "    list_codes = codes_list()\n",
    "    return name if name in list_codes else list_codes[0]\n",
    "\n",
    "def get_dict_from_filter():\n",
    "    filter_dict  ={}\n",
    "    for k,v in sq.site_filter.items():\n",
    "        filter_={}\n",
    "        for i in v.children[0].children[0].children:\n",
    "            f = {}\n",
    "            for j in range(4):\n",
    "                f[i.children[j].description] = i.children[j].value\n",
    "            filter_[i.children[0].value]=f\n",
    "        filter_dict[k] = filter_\n",
    "    return filter_dict\n",
    "   "
   ]
  },
  {
   "cell_type": "markdown",
   "metadata": {},
   "source": [
    "# Inversion"
   ]
  },
  {
   "cell_type": "markdown",
   "metadata": {},
   "source": [
    "### Import data"
   ]
  },
  {
   "cell_type": "code",
   "execution_count": null,
   "metadata": {},
   "outputs": [],
   "source": [
    "import_nc = import_nc.Import()\n",
    "import_nc"
   ]
  },
  {
   "cell_type": "markdown",
   "metadata": {},
   "source": [
    "### Step 1"
   ]
  },
  {
   "cell_type": "code",
   "execution_count": null,
   "metadata": {},
   "outputs": [],
   "source": [
    "sq = sens_query.SearchSens()\n",
    "sq"
   ]
  },
  {
   "cell_type": "markdown",
   "metadata": {},
   "source": [
    "### Step 2"
   ]
  },
  {
   "cell_type": "code",
   "execution_count": null,
   "metadata": {},
   "outputs": [],
   "source": [
    "inv = inversion_params.InversionParams()\n",
    "inv\n"
   ]
  },
  {
   "cell_type": "markdown",
   "metadata": {},
   "source": [
    "### Step 3"
   ]
  },
  {
   "cell_type": "code",
   "execution_count": null,
   "metadata": {},
   "outputs": [],
   "source": [
    "codes = widgets.Dropdown(\n",
    "            description=\"code\",\n",
    "            options=codes_list(),\n",
    "            value = default('inversion@daint'),\n",
    "            style = {\"description_width\": \"initial\"}\n",
    "        )\n",
    "\n",
    "\n",
    "selected_code = orm.load_code(codes.value)\n",
    "username = selected_code.computer.get_configuration()['username']\n",
    "\n",
    "\n",
    "stash_address = widgets.Text(\n",
    "            description=\"Stash Address\",\n",
    "            value = '/store/empa/em05/'+username+'/aiida_stash',\n",
    "            style = {\"description_width\": \"initial\"},\n",
    "            layout=widgets.Layout(width=\"40%\"),\n",
    "        )\n",
    "\n",
    "\n",
    "block = widgets.VBox(children = [codes,\n",
    "                                stash_address,\n",
    "                                 ])\n",
    "block\n"
   ]
  },
  {
   "cell_type": "code",
   "execution_count": null,
   "metadata": {},
   "outputs": [],
   "source": [
    "prepend_text_ = f'#SBATCH --constrain=mc\\n'+\\\n",
    "                f'#SBATCH --account=em05\\n'\n",
    "              "
   ]
  },
  {
   "cell_type": "code",
   "execution_count": null,
   "metadata": {},
   "outputs": [],
   "source": [
    "def prepare_inversion():\n",
    "\n",
    "    if not inv.inv_name.value:\n",
    "        return\n",
    "    \n",
    "    inverstion_parameters = inv.construct_dict()\n",
    "    filter_dict = get_dict_from_filter()\n",
    "\n",
    "    extras_dict = {k:{x.description:x.value for x in v} for k,v in sq.site_extras.items()}\n",
    "    for k in extras_dict.keys():\n",
    "        extras_dict[k]['bg.obs.fn'] = sq.available_obs_list[extras_dict[k]['bg.obs.fn']].attributes[\"remote_path\"]\n",
    "\n",
    "    for i in sq.list_info_obs:\n",
    "        i.update(extras_dict[i['name']])\n",
    "        i.update(filter_dict[i['name']])\n",
    "\n",
    "    inverstion_parameters.update({'sites':{i['name']:i for i in sq.list_info_obs}})\n",
    "\n",
    "    #other params\n",
    "    inverstion_parameters.update({'para': sq.species.value,\n",
    "                                'domain':sq.domain.value,\n",
    "                                'transport.model':sq.model.value,\n",
    "                                #'dtm.start':s_date,\n",
    "                                #'dtm.end':e_date,\n",
    "                                'res.dir':'./'})\n",
    "    \n",
    "    #test conversion\n",
    "    inverstion_parameters = {\n",
    "    key.replace(\".\", \"_\"): value for key, value in inverstion_parameters.items()\n",
    "}\n",
    "    remotes_dictionary = {k[:-3].replace('-','_'):v \n",
    "                         for k,v in sq.list_remotes.items()}\n",
    "    \n",
    "    #selected obs format change\n",
    "    reformated_observations = {k.replace('-','_'):v \n",
    "                               for k,v in sq.selected_obs.items()}\n",
    "    \n",
    "    #builder starts\n",
    "    builder = INVERSION_WORKLFOW.get_builder()\n",
    "    builder.inversion_code = orm.load_code(codes.value)\n",
    "    builder.sens = remotes_dictionary\n",
    "    builder.observations =  reformated_observations\n",
    "    #builder.metadata.options.custom_scheduler_commands = prepend_text_\n",
    "    builder.inv_params = orm.Dict(inverstion_parameters)\n",
    "    builder.date_range = orm.Str(sq.date_range.value)\n",
    "    builder.chunk = orm.Str(inv.chunk.value)\n",
    "    builder.chunk_w = orm.Str(inv.chunk_w.value)\n",
    "\n",
    "    \"\"\"builder.metadata.options.stash = {\n",
    "        'source_list': ['*'],\n",
    "        'target_base': stash_address.value,\n",
    "        'stash_mode': StashMode.COPY.value,\n",
    "    }\"\"\"\n",
    "\n",
    "    return builder\n"
   ]
  },
  {
   "cell_type": "code",
   "execution_count": null,
   "metadata": {},
   "outputs": [],
   "source": [
    "pre = presettings.Presettings(INVERSION,\n",
    "                              parameters = {'params':inv})\n",
    "pre"
   ]
  },
  {
   "cell_type": "code",
   "execution_count": null,
   "metadata": {},
   "outputs": [],
   "source": [
    "btn_submit_ = awb.SubmitButtonWidget(\n",
    "    INVERSION_WORKLFOW,\n",
    "    inputs_generator = prepare_inversion,\n",
    "    disable_after_submit = False,\n",
    "    append_output = True,\n",
    ")\n",
    "btn_submit_.btn_submit.button_style=\"success\"\n",
    "display(btn_submit_, out)"
   ]
  }
 ],
 "metadata": {
  "language_info": {
   "name": "python"
  }
 },
 "nbformat": 4,
 "nbformat_minor": 2
}
