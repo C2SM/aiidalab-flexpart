{
 "cells": [
  {
   "cell_type": "markdown",
   "metadata": {},
   "source": [
    "# Regional Inverse Modelling setup \n",
    "\n",
    "Before start we recommend to install the following apps:\n",
    "- MFA for CSCS\n",
    "- AiiDAlab Base Widgets \n",
    "<hr>\n"
   ]
  },
  {
   "cell_type": "markdown",
   "metadata": {},
   "source": [
    "### Contents\n",
    "- [Create SSH conection](#Create-SSH-conection)\n",
    "- [Computers setup](#Computers-setup)\n",
    "- [Codes setup](#Codes-setup)\n",
    "- [Enable cache](#Enable-cache)"
   ]
  },
  {
   "cell_type": "markdown",
   "metadata": {},
   "source": [
    "### Create SSH conection\n",
    "\n",
    "Go to <b>Advance</b> --> <b>MISC</b> and click on Setup new code, <br>\n",
    "then tick on <b>Tick checkbox to setup resource step by step</b> and then on SSH connection. <br>\n",
    "Fill the boxes with your information. To run Flexpart, two ssh connections are needed: one for\n",
    "<i>daint.cscs.ch</i> and the other for the meteorological data transfer <i>daint106.cscs.ch</i>.\n",
    "\n",
    "After this step, the file `.ssh/config` should look like:\n",
    "\n",
    "```hs\n",
    "Host daint.cscs.ch\n",
    "  User <USERNAME>\n",
    "  Port 22\n",
    "  ProxyJump <USERNAME>@ela.cscs.ch\n",
    "  ServerAliveInterval 5\n",
    "Host daint106.cscs.ch\n",
    "  User <USERNAME>\n",
    "  Port 22\n",
    "  ProxyJump <USERNAME>@ela.cscs.ch\n",
    "  ServerAliveInterval 5\n",
    "```\n",
    "Yo can then check taht the connections work by entering the terminal and using the command <i>ssh</i> to enter daint."
   ]
  },
  {
   "cell_type": "markdown",
   "metadata": {},
   "source": [
    "### Computers setup\n",
    "\n",
    "Computers need to be setup and configured before we setup the codes. To run Flexpart simulations we need to \n",
    "define two computers, which can be labeled as <i>daint</i> (or daint-mc) and <i>daint-direct</i>.\n",
    "\n",
    "Go to <b>Advance</b> --> <b>MISC</b> and click on Setup new code, <br>\n",
    "then tick on <b>Tick checkbox to setup resource step by step</b> and follow the instructions under computer.<br>\n",
    "\n",
    "<b>Example:</b>\n"
   ]
  },
  {
   "cell_type": "markdown",
   "metadata": {},
   "source": [
    "```hs\n",
    "label: daint\n",
    "hostname: daint.cscs.ch\n",
    "description: Piz Daint supercomputer at CSCS Lugano, Switzerland, using the hybrid partition.\n",
    "transport: core.ssh\n",
    "scheduler: core.slurm\n",
    "shebang: '#!/bin/bash -l'\n",
    "mpiprocs_per_machine: 36\n",
    "work_dir: /scratch/snx3000/{username}/aiida/\n",
    "mpirun_command: srun -n 36\n",
    "```"
   ]
  },
  {
   "cell_type": "markdown",
   "metadata": {},
   "source": [
    "### Codes setup\n",
    "\n",
    "After configuring the computer and making sure that they work (this can be done by testing them). One can setup the codes. \n",
    "To run flexpart we need to setup at least five differnt codes. \n",
    "\n",
    "Go to <b>Advance</b> --> <b>MISC</b> and click on Setup new code, <br>\n",
    "then tick on <b>Tick checkbox to setup resource step by step</b> and follow the instructions under code.<br>\n",
    "\n",
    "<b>Example:</b>"
   ]
  },
  {
   "cell_type": "markdown",
   "metadata": {},
   "source": [
    "```hs\n",
    "label: flexpart_cosmo\n",
    "description: \"\"\n",
    "default_calc_job_plugin: flexpart.cosmo\n",
    "computer: daint\n",
    "filepath_executable:  /users/lfernand/flexpart/bin/FLEXPART_main_daint_GNUoptompncdfout\n",
    "prepend_text:\n",
    "\n",
    "export OMP_STACKSIZE=100M\n",
    "module load daint-mc\n",
    "module switch PrgEnv-cray PrgEnv-gnu\n",
    "module switch gcc/11.2.0 gcc/9.3.0\n",
    "\n",
    "module load cray-netcdf\n",
    "\n",
    "module use /store/empa/em05/shenne/easybuild/modules/all\n",
    "module load ecCodes/2.19.0-CrayGNU-21.09\n",
    "export ECCODES_DEFINITION_PATH=${HOME}/resources/eccodes_definitions_cosmo\n",
    "```"
   ]
  },
  {
   "cell_type": "markdown",
   "metadata": {},
   "source": [
    "### Enable cache\n",
    "\n",
    "In the terminal, write: \n",
    "\n",
    "```hs\n",
    "verdi config set caching.default_enabled True\n",
    "```"
   ]
  }
 ],
 "metadata": {
  "language_info": {
   "name": "python"
  }
 },
 "nbformat": 4,
 "nbformat_minor": 2
}
